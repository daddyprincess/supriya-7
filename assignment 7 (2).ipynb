{
 "cells": [
  {
   "cell_type": "markdown",
   "id": "b4d1f5fb-b972-499a-a882-d0c40e834581",
   "metadata": {},
   "source": [
    "## 1.exception"
   ]
  },
  {
   "cell_type": "code",
   "execution_count": null,
   "id": "7f6c6cfc-71be-4247-a8c5-69ffd0b7c380",
   "metadata": {},
   "outputs": [],
   "source": [
    " An exception is an event, which occurs during the execution of a program that disrupts the normal flow of the programs \n",
    "instructions."
   ]
  },
  {
   "cell_type": "markdown",
   "id": "133aee0f-adb2-4a1b-ac4e-4df61b6891be",
   "metadata": {},
   "source": [
    "### difference between exception in syntax error"
   ]
  },
  {
   "cell_type": "code",
   "execution_count": null,
   "id": "82a97363-368d-43b1-a385-c6443f6131c9",
   "metadata": {},
   "outputs": [],
   "source": [
    "Exceptions: Exceptions are raised when the program is syntactically correct, but the code results in an error. This error does\n",
    "            not stop the execution of the program, however, it changes the normal flow of the program.\n",
    "An exception is an eventthat occurs during the execution of a program that disrupts the normal flow of  instructions during\n",
    "the execution of a program.\n"
   ]
  },
  {
   "cell_type": "code",
   "execution_count": null,
   "id": "6862687e-b556-417c-8ef5-9442a1be92a6",
   "metadata": {},
   "outputs": [],
   "source": [
    "Syntax Error: As the name suggests this error is caused by the wrong syntax in the code. It leads to the termination of the\n",
    "              program.\n",
    "A syntax error is something caught by the compiler/interpreter and its incorrect use of the language itself. For example, for:,\n",
    "which is invalid Python.\n",
    "    "
   ]
  },
  {
   "cell_type": "markdown",
   "id": "7b488001-33c4-4601-9677-4c6e4eb9d4f7",
   "metadata": {},
   "source": [
    "## 2.handle exception"
   ]
  },
  {
   "cell_type": "code",
   "execution_count": null,
   "id": "e52c0752-9942-45c5-845c-ce6a179f6072",
   "metadata": {},
   "outputs": [],
   "source": [
    "The try and except block in Python is used to catch and handle exceptions. Python executes code following the try statement as\n",
    "a “normal” part of the program.\n"
   ]
  },
  {
   "cell_type": "code",
   "execution_count": 5,
   "id": "e38c1466-322b-4c1d-8fae-72cadccdcc94",
   "metadata": {},
   "outputs": [
    {
     "name": "stdout",
     "output_type": "stream",
     "text": [
      "B\n",
      "C\n",
      "D\n"
     ]
    }
   ],
   "source": [
    "class B(Exception):\n",
    "    pass\n",
    "\n",
    "class C(B):\n",
    "    pass\n",
    "\n",
    "class D(C):\n",
    "    pass\n",
    "\n",
    "for cls in [B, C, D]:\n",
    "    try:\n",
    "        raise cls()\n",
    "    except D:\n",
    "        print(\"D\")\n",
    "    except C:\n",
    "        print(\"C\")\n",
    "    except B:\n",
    "        print(\"B\")\n"
   ]
  },
  {
   "cell_type": "markdown",
   "id": "4e307f33-0bff-499c-9c84-03bb85e583c5",
   "metadata": {},
   "source": [
    "## 3.exception not handled"
   ]
  },
  {
   "cell_type": "code",
   "execution_count": null,
   "id": "e3ae9d0c-974a-46e0-9456-007a284f35b1",
   "metadata": {},
   "outputs": [],
   "source": [
    " If the exception is not handled by an except clause, the exception is re-raised after the finally clause has been executed."
   ]
  },
  {
   "cell_type": "code",
   "execution_count": 6,
   "id": "2ad5bb56-1eb0-4107-9341-93a1565e829a",
   "metadata": {},
   "outputs": [
    {
     "data": {
      "text/plain": [
       "False"
      ]
     },
     "execution_count": 6,
     "metadata": {},
     "output_type": "execute_result"
    }
   ],
   "source": [
    "def bool_return():\n",
    "    try:\n",
    "        return True\n",
    "    finally:\n",
    "        return False\n",
    "\n",
    "bool_return()\n",
    "False\n"
   ]
  },
  {
   "cell_type": "markdown",
   "id": "1bbc8be5-fc63-4933-ac0a-2927b94cdbd2",
   "metadata": {},
   "source": [
    "## 4.try and else,finally,raise"
   ]
  },
  {
   "cell_type": "code",
   "execution_count": null,
   "id": "67ad594d-03f3-408b-9ee4-99bd18745316",
   "metadata": {},
   "outputs": [],
   "source": [
    "TRY:\n",
    "The try block lets you test a block of code for errors.\n",
    "ELSE:\n",
    "The else block lets you execute code when there is no error."
   ]
  },
  {
   "cell_type": "code",
   "execution_count": null,
   "id": "b8c8ac02-9d4a-4a0b-a595-8c8e932809e4",
   "metadata": {},
   "outputs": [],
   "source": [
    "Finally:\n",
    "The finally block, if specified, will be executed regardless if the try block raises an error or not.\n",
    "The finally block lets you execute code, regardless of the result of the try- and except blocks."
   ]
  },
  {
   "cell_type": "code",
   "execution_count": null,
   "id": "00c13ef0-bf61-43b1-a6d6-35d6b0d87ef5",
   "metadata": {},
   "outputs": [],
   "source": [
    "Raise:\n",
    "As a Python developer you can choose to throw an exception if a condition occurs.To throw (or raise) an exception, use the\n",
    "raise keyword"
   ]
  },
  {
   "cell_type": "markdown",
   "id": "298a094f-0bd4-4af5-9b2f-9c1a2a630350",
   "metadata": {},
   "source": [
    "## 5.custom exceptions "
   ]
  },
  {
   "cell_type": "code",
   "execution_count": null,
   "id": "704fd920-07fa-49dd-8fd1-3ada68da1118",
   "metadata": {},
   "outputs": [],
   "source": [
    "To create a custom exception class, you define a class that inherits from the built-in Exception class or one of its\n",
    "subclasses such as ValueError class."
   ]
  },
  {
   "cell_type": "markdown",
   "id": "16c069db-f8f2-4db9-94bb-e1c7f227ed4f",
   "metadata": {},
   "source": [
    "### need custom exceptions"
   ]
  },
  {
   "cell_type": "code",
   "execution_count": null,
   "id": "0e18f43a-1c89-46ac-b3f5-80fdbfe8616e",
   "metadata": {},
   "outputs": [],
   "source": [
    "Built-in exceptions offer information about Python-related problems, and custom exceptions will add information about\n",
    "project-related problems. That way, you can design your code (and traceback, if an exception is raised) in a way that combines \n",
    "Python code with the language of the project\n"
   ]
  },
  {
   "cell_type": "code",
   "execution_count": 7,
   "id": "ae007037-9276-4eba-977f-15650a954ab0",
   "metadata": {},
   "outputs": [
    {
     "name": "stdin",
     "output_type": "stream",
     "text": [
      "Enter a number:  45\n"
     ]
    },
    {
     "name": "stdout",
     "output_type": "stream",
     "text": [
      "Eligible to Vote\n"
     ]
    }
   ],
   "source": [
    "# define Python user-defined exceptions\n",
    "class InvalidAgeException(Exception):\n",
    "    \"Raised when the input value is less than 18\"\n",
    "    pass\n",
    "\n",
    "# you need to guess this number\n",
    "number = 18\n",
    "\n",
    "try:\n",
    "    input_num = int(input(\"Enter a number: \"))\n",
    "    if input_num < number:\n",
    "        raise InvalidAgeException\n",
    "    else:\n",
    "        print(\"Eligible to Vote\")\n",
    "        \n",
    "except InvalidAgeException:\n",
    "    print(\"Exception occurred: Invalid Age\")"
   ]
  },
  {
   "cell_type": "markdown",
   "id": "43f70d7c-1bed-48f9-bd7b-dae62530486a",
   "metadata": {},
   "source": [
    "## 6.excepotion class"
   ]
  },
  {
   "cell_type": "code",
   "execution_count": null,
   "id": "bde9e828-8fa0-42cc-a6eb-95ca6941ace3",
   "metadata": {},
   "outputs": [],
   "source": [
    "To create a custom exception in Python, you need to define a new class that inherits from the base Exception class or any of \n",
    "its subclasses. By defining your custom exception class, you can add additional attributes and methods to suit your specific \n",
    "error scenario.\n"
   ]
  },
  {
   "cell_type": "code",
   "execution_count": 4,
   "id": "deff9bf8-6a96-42c9-a665-19d2eb78bdca",
   "metadata": {},
   "outputs": [
    {
     "name": "stdout",
     "output_type": "stream",
     "text": [
      "Caught: My Useful Error Message!\n"
     ]
    }
   ],
   "source": [
    "class customException(Exception):\n",
    "    def __init__(self, value):\n",
    "        self.parameter = value\n",
    "\n",
    "    def __str__(self):\n",
    "        return repr(self.parameter)\n",
    "try:\n",
    "    raise customException('My Useful Error Message!')\n",
    "except customException as instance:\n",
    "    print('Caught: ' + instance.parameter)\n"
   ]
  },
  {
   "cell_type": "code",
   "execution_count": null,
   "id": "2c272f4e-3bdd-43ae-b692-13b96ba38f6b",
   "metadata": {},
   "outputs": [],
   "source": []
  },
  {
   "cell_type": "code",
   "execution_count": null,
   "id": "4f54cac4-9880-4161-8ba3-e65a4023ba4a",
   "metadata": {},
   "outputs": [],
   "source": []
  },
  {
   "cell_type": "code",
   "execution_count": null,
   "id": "a01dc620-811a-42fa-9b2b-792dfe12a01f",
   "metadata": {},
   "outputs": [],
   "source": []
  },
  {
   "cell_type": "code",
   "execution_count": null,
   "id": "96403506-6fe3-4a10-9032-d9f1db67487f",
   "metadata": {},
   "outputs": [],
   "source": []
  },
  {
   "cell_type": "code",
   "execution_count": null,
   "id": "7eb442e8-9dce-4600-a274-4ed5eb9b6897",
   "metadata": {},
   "outputs": [],
   "source": []
  }
 ],
 "metadata": {
  "kernelspec": {
   "display_name": "Python 3 (ipykernel)",
   "language": "python",
   "name": "python3"
  },
  "language_info": {
   "codemirror_mode": {
    "name": "ipython",
    "version": 3
   },
   "file_extension": ".py",
   "mimetype": "text/x-python",
   "name": "python",
   "nbconvert_exporter": "python",
   "pygments_lexer": "ipython3",
   "version": "3.10.8"
  }
 },
 "nbformat": 4,
 "nbformat_minor": 5
}
